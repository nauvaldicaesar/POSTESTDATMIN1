{
  "nbformat": 4,
  "nbformat_minor": 0,
  "metadata": {
    "colab": {
      "provenance": [],
      "collapsed_sections": [
        "m2edIZ4Rzj_Y"
      ]
    },
    "kernelspec": {
      "name": "python3",
      "display_name": "Python 3"
    },
    "language_info": {
      "name": "python"
    }
  },
  "cells": [
    {
      "cell_type": "markdown",
      "source": [
        "<h1>Posttest Praktikum Sistem Informasi </h1>\n",
        "\n",
        "NIM **NIM KAMU DISINI**\n",
        "\n",
        "NAMA **NAMA KAMU DISINI**\n",
        "\n",
        "> Kerjakanlah tugas berikut berdasarkan instruksi yang diberkan. Kumpulkanlah hasil posttest ini pada Github dengan mengumpulkan link repository kalian.\n",
        "\n",
        "Disini ada dua jenis tugas.\n",
        "\n",
        "1. Visualisasi\n",
        "2. Penerapan Algoritma Naive Bayes\n",
        "\n",
        "\n",
        "Ketentuan pengumpulan tugas :\n",
        "1. Kumpul Tugas ini dengan Format Kelas_NIM_Posttest 1.ipynb\n",
        "2. Kumpulkan dalam bentuk link repository github\n",
        "3. Berikan penjelasan untuk setiap blok kode dengan membuat text atau comment pada kodingan\n",
        "4. Untuk bagian penjelasan gausa terlalu panjang. \n",
        "singkat padat dan jelas\n",
        "\n",
        "\n"
      ],
      "metadata": {
        "id": "W-uS6_66tbij"
      }
    },
    {
      "cell_type": "code",
      "source": [
        "import pandas as pd\n",
        "import seaborn as sns\n",
        "import plotly.express as px"
      ],
      "metadata": {
        "id": "HKK253oA06dU"
      },
      "execution_count": null,
      "outputs": []
    },
    {
      "cell_type": "code",
      "source": [
        "df = pd.read_csv(\"angka1.csv\")\n",
        "df"
      ],
      "metadata": {
        "id": "esAd7T6I1Dwm"
      },
      "execution_count": null,
      "outputs": []
    },
    {
      "cell_type": "code",
      "source": [
        "df_1 = df[df[\"Attrition_Flag\"]==\"Attrited Customer\"]"
      ],
      "metadata": {
        "id": "WHqbZpw02IVv"
      },
      "execution_count": null,
      "outputs": []
    },
    {
      "cell_type": "code",
      "source": [
        "#Tampilkan data\n",
        "df_1"
      ],
      "metadata": {
        "id": "26mygh7p2xkR"
      },
      "execution_count": null,
      "outputs": []
    },
    {
      "cell_type": "code",
      "source": [
        "df_2 = df[df['Attrition_Flag']==\"Attrited Customer\"]"
      ],
      "metadata": {
        "id": "mkD_cVBx23Zl"
      },
      "execution_count": null,
      "outputs": []
    },
    {
      "cell_type": "code",
      "source": [
        "#Tampiilkan data\n",
        "df_2"
      ],
      "metadata": {
        "id": "NkxSVobS3GLS"
      },
      "execution_count": null,
      "outputs": []
    },
    {
      "cell_type": "code",
      "source": [
        "df_3 =df[df[\"Customer_Age\"]<50]"
      ],
      "metadata": {
        "id": "0vSpwiy43LEX"
      },
      "execution_count": null,
      "outputs": []
    },
    {
      "cell_type": "code",
      "source": [
        "#Tampilkan data\n",
        "df_3"
      ],
      "metadata": {
        "id": "dh3f8KpR3cvm"
      },
      "execution_count": null,
      "outputs": []
    },
    {
      "cell_type": "code",
      "source": [
        "df_4 = df[df[\"Marital_Status\"]==\"Single\"]"
      ],
      "metadata": {
        "id": "jYZjjG-v3hXj"
      },
      "execution_count": null,
      "outputs": []
    },
    {
      "cell_type": "code",
      "source": [
        "#Tampilkan data\n",
        "df_4"
      ],
      "metadata": {
        "id": "87KuDIFk3vJv"
      },
      "execution_count": null,
      "outputs": []
    },
    {
      "cell_type": "code",
      "source": [
        "df.info()"
      ],
      "metadata": {
        "id": "ONfaoKiH4Clw"
      },
      "execution_count": null,
      "outputs": []
    },
    {
      "cell_type": "markdown",
      "source": [
        "#MY  OPSIONAL\n"
      ],
      "metadata": {
        "id": "LESWPGpe50o6"
      }
    },
    {
      "cell_type": "code",
      "source": [
        "# Tampilkan nilai rata-rata, min,max, dan standar deviasi  untuk setiap kolom bertipe angka\n",
        "numeric_cols = df.select_dtypes(include=['int', 'float']).columns\n",
        "\n",
        "# Menghitung nilai rata-rata, minimum, maksimum, dan standar deviasi untuk setiap kolom\n",
        "stat_df = pd.DataFrame({\n",
        "    'Mean': df[numeric_cols].mean(),\n",
        "    'Min': df[numeric_cols].min(),\n",
        "    'Max': df[numeric_cols].max(),\n",
        "    'Std Dev': df[numeric_cols].std()\n",
        "})\n",
        "\n",
        "# Menampilkan hasil\n",
        "print(stat_df)"
      ],
      "metadata": {
        "id": "mucUA3T3549F"
      },
      "execution_count": null,
      "outputs": []
    },
    {
      "cell_type": "markdown",
      "source": [
        "#EXPLOR DATA"
      ],
      "metadata": {
        "id": "LjHdJX7m8vlo"
      }
    },
    {
      "cell_type": "code",
      "source": [
        "sns.countplot(x=\"Attrition_Flag\", data=df)\n",
        "\n",
        "fig = px.histogram(df, x=\"Attrition_Flag\")\n",
        "\n",
        "fig.update_xaxes(title_text=\"Attired Customer\")\n",
        "fig.update_yaxes(title_text=\"Count\")\n",
        "\n",
        "fig.show()"
      ],
      "metadata": {
        "id": "5LHacoKC80Sh"
      },
      "execution_count": null,
      "outputs": []
    },
    {
      "cell_type": "code",
      "source": [
        "# Buatlah visualisasi yang menampilkan berapa banyak Education level berdasarkan kategori-kategorinya \n",
        "# contoh Unknown berapa dsb\n",
        "\n",
        "sns.catplot(x=\"Education_Level\", kind=\"count\", data=df)\n",
        "\n",
        "fig = px.histogram(df, x=\"Education_Level\")\n",
        "\n",
        "fig.update_xaxes(title_text=\"Education Level\")\n",
        "fig.update_yaxes(title_text=\"Count\")\n",
        "\n",
        "fig.show()"
      ],
      "metadata": {
        "id": "WI1dwXIl86yO"
      },
      "execution_count": null,
      "outputs": []
    },
    {
      "cell_type": "code",
      "source": [
        "# contoh M berapa F berapa\n",
        "\n",
        "sns.countplot(x=\"Education_Level\", hue=\"Gender\", data=df)\n",
        "\n",
        "fig = px.histogram(df, x=\"Education_Level\", color=\"Gender\")\n",
        "\n",
        "fig.update_xaxes(title_text=\"Education Level\")\n",
        "fig.update_yaxes(title_text=\"Count\")\n",
        "\n",
        "fig.show()\n",
        "     "
      ],
      "metadata": {
        "id": "SEz-wbt48_fM"
      },
      "execution_count": null,
      "outputs": []
    },
    {
      "cell_type": "markdown",
      "source": [
        "#VISUALISASI DISTRIBUTION"
      ],
      "metadata": {
        "id": "YNpfnjH19CzE"
      }
    },
    {
      "cell_type": "code",
      "source": [
        "# Buatlah historgram untuk customer dan credit card limit\n",
        "\n",
        "sns.histplot(data=df, x=\"Customer_Age\")\n",
        "\n",
        "fig = px.histogram(df, x=\"Credit_Limit\")\n",
        "\n",
        "fig.update_xaxes(title_text=\"Credit Limit\")\n",
        "fig.update_yaxes(title_text=\"Count\")\n",
        "\n",
        "fig.show()"
      ],
      "metadata": {
        "id": "enTkw1gd9I4g"
      },
      "execution_count": null,
      "outputs": []
    },
    {
      "cell_type": "code",
      "source": [
        "# Buatlah boxplot untuk customer dan credit card limit\n",
        "\n",
        "sns.boxplot(data=df, x=\"Customer_Age\")\n",
        "\n",
        "fig = px.box(df, y=\"Credit_Limit\")\n",
        "\n",
        "fig.update_xaxes(title_text=\"Credit Limit\")\n",
        "fig.update_yaxes(title_text=\"Amount\")\n",
        "\n",
        "fig.show()"
      ],
      "metadata": {
        "id": "VBbxMVNM9Msv"
      },
      "execution_count": null,
      "outputs": []
    },
    {
      "cell_type": "markdown",
      "source": [
        "#VISUALISASI RELATIONSHIP"
      ],
      "metadata": {
        "id": "ku7lOW2J9UsV"
      }
    },
    {
      "cell_type": "code",
      "source": [
        "\n",
        "# Buatlah scatterplot untuk umur customer dan credit card limit\n",
        "\n",
        "sns.scatterplot(data=df, x=\"Customer_Age\", y=\"Credit_Limit\")\n",
        "\n",
        "fig = px.scatter(df, x=\"Customer_Age\", y=\"Credit_Limit\")\n",
        "\n",
        "fig.update_xaxes(title_text=\"Customer Age\")\n",
        "fig.update_yaxes(title_text=\"Credit Limit\")\n",
        "\n",
        "fig.show()"
      ],
      "metadata": {
        "id": "bw-G3ox99aQo"
      },
      "execution_count": null,
      "outputs": []
    },
    {
      "cell_type": "markdown",
      "source": [
        "#VISUALISASI COMPOSITION "
      ],
      "metadata": {
        "id": "FEkVovbg9gS7"
      }
    },
    {
      "cell_type": "code",
      "source": [
        "# Buatlah pieplot untuk Income Category & Education Level\n",
        "\n",
        "fig1 = px.pie(df, names='Income_Category')\n",
        "\n",
        "fig1.show()\n",
        "\n",
        "fig2 = px.pie(df, names='Education_Level')\n",
        "\n",
        "fig2.show()"
      ],
      "metadata": {
        "id": "oEgQnwyT9mQt"
      },
      "execution_count": null,
      "outputs": []
    },
    {
      "cell_type": "markdown",
      "source": [
        "#OPSIONAL (NILAI PLUS)"
      ],
      "metadata": {
        "id": "W1_gE08Y9q_M"
      }
    },
    {
      "cell_type": "code",
      "source": [
        "# Buatlah visualisasi boxplot Credit Card Limit dengan Jenis Kelamin sebagai pemisahnya (color)\n",
        "\n",
        "sns.boxplot(x='Credit_Limit', y='Gender', data=df, palette=['red', 'blue'])"
      ],
      "metadata": {
        "id": "0YZos_8V9n4B"
      },
      "execution_count": null,
      "outputs": []
    },
    {
      "cell_type": "code",
      "source": [
        "# Buatlah visualisasi boxplot Credit Card Limit dengan Attrition Flag sebagai pemisahnya (color)\n",
        "\n",
        "sns.boxplot(x='Attrition_Flag', y='Credit_Limit', data=df)"
      ],
      "metadata": {
        "id": "m1nf-ySe9w2Q"
      },
      "execution_count": null,
      "outputs": []
    },
    {
      "cell_type": "code",
      "source": [
        "\n",
        "# Buatlah visualisasi boxplot Age dengan Attrition Flag sebagai pemisahnya (color)\n",
        "\n",
        "sns.boxplot(x='Attrition_Flag', y='Customer_Age', data=df)"
      ],
      "metadata": {
        "id": "Rou48nS29yFY"
      },
      "execution_count": null,
      "outputs": []
    },
    {
      "cell_type": "code",
      "source": [
        "# Buatlah visualisasi countplot  Attrition Flag dengan jenis kelamin sebagai pemisahnya (color)\n",
        "\n",
        "sns.countplot(x='Attrition_Flag', hue='Gender', data=df)\n",
        "     "
      ],
      "metadata": {
        "id": "cGjFJLyA92Jl"
      },
      "execution_count": null,
      "outputs": []
    },
    {
      "cell_type": "code",
      "source": [
        "# Buatlah visualisasi countplot  Attrition Flag dengan jenis kelamin sebagai pemisahnya (color)\n",
        "\n",
        "sns.countplot(x='Attrition_Flag', hue='Gender', data=df)"
      ],
      "metadata": {
        "id": "vLaofqaE97I2"
      },
      "execution_count": null,
      "outputs": []
    },
    {
      "cell_type": "code",
      "source": [
        "# Buatlah visualisasi heatmap untuk Setiap variabel numerik yang ada\n",
        "df_numeric = df.select_dtypes(include=['int64', 'float64'])\n",
        "sns.heatmap(df_numeric.corr(), annot=True, cmap='coolwarm')"
      ],
      "metadata": {
        "id": "58H5XyMC99Ao"
      },
      "execution_count": null,
      "outputs": []
    },
    {
      "cell_type": "code",
      "source": [],
      "metadata": {
        "id": "hcCjYS8X-ApV"
      },
      "execution_count": null,
      "outputs": []
    },
    {
      "cell_type": "markdown",
      "source": [
        "## Business Understanding & Data Understanding"
      ],
      "metadata": {
        "id": "m2edIZ4Rzj_Y"
      }
    },
    {
      "cell_type": "markdown",
      "source": [
        "Importlah pandas, seaborn, dan plotly\n",
        "\n",
        "Download dataset dari link ini [**Link Dataset**](https://github.com/fnikolas-r/Data-Mining-Course/blob/main/Pertemuan%202/ChurnBank.csv)\n",
        "\n",
        "\n",
        "\n",
        "\n",
        "Kemudian taruhlah dalam sebuah variabel bernama df\n",
        "\n",
        "\n",
        "*note: kalian dapat menambah blok yang ada*"
      ],
      "metadata": {
        "id": "wxyi84yY7Lla"
      }
    },
    {
      "cell_type": "code",
      "execution_count": null,
      "metadata": {
        "id": "gxbjtLI5s8pn"
      },
      "outputs": [],
      "source": [
        "# Buatlah datasetnya disini\n",
        "# df = "
      ]
    },
    {
      "cell_type": "markdown",
      "source": [
        "### Business Understanding\n",
        "\n",
        "Disini kamu berandai andai bahwa kamu adalah direktur sebuah perusahaan, kamu menggunakan dataset ini dan akan menggunakan algoritma Naive Bayes untuk perkembangan perusahaan kamu. Jelaskan tujuan penggunaan dataset ini, tujuan perusahaan, serta tujuan dari penggunaan naive bayes (beri penjelasan di text ini)"
      ],
      "metadata": {
        "id": "4zonMQ5M9OxL"
      }
    },
    {
      "cell_type": "markdown",
      "source": [
        "### Data Understanding"
      ],
      "metadata": {
        "id": "Uj2U1K8y-A2J"
      }
    },
    {
      "cell_type": "code",
      "source": [
        "# Dari dataset diatas buatlah  variabel yang berisi\n",
        "# df1 isinya dataset dengan label target AttiredCustomer\n",
        "# df2 dengan label bukan Attrired customer\n",
        "# df3 dengan tabel untuk usia dibawah 50 tahun\n",
        "# df4 untuk customer yang statusnya itu single\n",
        "\n",
        "# df1 = \n",
        "# df2 = \n",
        "# df3 = \n",
        "# df4 = \n",
        "\n"
      ],
      "metadata": {
        "id": "fOe_dNgC7ZVp"
      },
      "execution_count": null,
      "outputs": []
    },
    {
      "cell_type": "code",
      "source": [
        "# Tampilkan info dataset (df.info()) dan berikan penjelasannya dalam bentuk teks atau comment"
      ],
      "metadata": {
        "id": "vm89zlTTOl4D"
      },
      "execution_count": null,
      "outputs": []
    },
    {
      "cell_type": "code",
      "source": [
        "#@title Opsional (nilai plus)\n",
        "\n",
        "# Tampilkan nilai rata-rata, min,max, dan standar deviasi  untuk setiap kolom bertipe angka"
      ],
      "metadata": {
        "id": "Gk-aiwdCO3Tw"
      },
      "execution_count": null,
      "outputs": []
    },
    {
      "cell_type": "markdown",
      "source": [
        "#### Explore Data"
      ],
      "metadata": {
        "id": "PmPSc7uV_XjV"
      }
    },
    {
      "cell_type": "markdown",
      "source": [
        "##### Visualisasi Comparison"
      ],
      "metadata": {
        "id": "OXfexpup_a6l"
      }
    },
    {
      "cell_type": "code",
      "source": [
        "# Buatlah visualisasi yang menampilkan berapa banyak yang attired customer dan tidak"
      ],
      "metadata": {
        "id": "EIVBtry9_W5m"
      },
      "execution_count": null,
      "outputs": []
    },
    {
      "cell_type": "code",
      "source": [
        "# Buatlah visualisasi yang menampilkan berapa banyak Education level berdasarkan kategori-kategorinya \n",
        "# contoh Unknown berapa dsb"
      ],
      "metadata": {
        "id": "UgQPmLrH_lbd"
      },
      "execution_count": null,
      "outputs": []
    },
    {
      "cell_type": "code",
      "source": [
        "# Buatlah visualisasi yang menampilkan berapa banyak Education level berdasarkan gendernya\n",
        "# contoh M berapa F berapa"
      ],
      "metadata": {
        "id": "8Ahhq1TG__7k"
      },
      "execution_count": null,
      "outputs": []
    },
    {
      "cell_type": "markdown",
      "source": [
        "berikan penjelasannya untuk tiap visualsiasi  disini"
      ],
      "metadata": {
        "id": "l0RDSKIjPMae"
      }
    },
    {
      "cell_type": "markdown",
      "source": [
        "##### Visualisasi Distribution\n"
      ],
      "metadata": {
        "id": "CAFZk0hOAEUT"
      }
    },
    {
      "cell_type": "code",
      "source": [
        "# Buatlah historgram untuk customer dan credit card limit"
      ],
      "metadata": {
        "id": "RX_wqpm7PPne"
      },
      "execution_count": null,
      "outputs": []
    },
    {
      "cell_type": "code",
      "source": [
        "# Buatlah boxplot untuk customer dan credit card limit"
      ],
      "metadata": {
        "id": "IcF_B1HmP7mO"
      },
      "execution_count": null,
      "outputs": []
    },
    {
      "cell_type": "markdown",
      "source": [
        "berikan penjelasannya disini"
      ],
      "metadata": {
        "id": "v_TwvSa9P94E"
      }
    },
    {
      "cell_type": "markdown",
      "source": [
        "##### Visualisasi Relationship\n",
        "\n",
        "\n"
      ],
      "metadata": {
        "id": "ezkaX5QbPfNG"
      }
    },
    {
      "cell_type": "code",
      "source": [
        "# Buatlah scatterplot untuk umur customer dan credit card limit"
      ],
      "metadata": {
        "id": "y-lzGBWSP3b8"
      },
      "execution_count": null,
      "outputs": []
    },
    {
      "cell_type": "markdown",
      "source": [
        "##### Visualisasi Composition\n",
        "\n",
        "\n"
      ],
      "metadata": {
        "id": "5jEZ8lWTQWwG"
      }
    },
    {
      "cell_type": "code",
      "source": [
        "# Buatlah pieplot untuk Income Category & Education Level"
      ],
      "metadata": {
        "id": "hjPoni4qQWwH"
      },
      "execution_count": null,
      "outputs": []
    },
    {
      "cell_type": "markdown",
      "source": [
        "### Opsional (Nilai Plus)"
      ],
      "metadata": {
        "id": "rNiY6kMdQlqj"
      }
    },
    {
      "cell_type": "code",
      "source": [
        "# Buatlah visualisasi boxplot Credit Card Limit dengan Jenis Kelamin sebagai pemisahnya (color)"
      ],
      "metadata": {
        "id": "S5YG0MSeQpKh"
      },
      "execution_count": null,
      "outputs": []
    },
    {
      "cell_type": "code",
      "source": [
        "# Buatlah visualisasi boxplot Credit Card Limit dengan Attrition Flag sebagai pemisahnya (color)"
      ],
      "metadata": {
        "id": "T1b84fGPQ4OZ"
      },
      "execution_count": null,
      "outputs": []
    },
    {
      "cell_type": "code",
      "source": [
        "# Buatlah visualisasi boxplot Age dengan Attrition Flag sebagai pemisahnya (color)"
      ],
      "metadata": {
        "id": "9VGH1FdjQ_i4"
      },
      "execution_count": null,
      "outputs": []
    },
    {
      "cell_type": "code",
      "source": [
        "# Buatlah visualisasi countplot  Attrition Flag dengan jenis kelamin sebagai pemisahnya (color)"
      ],
      "metadata": {
        "id": "lkh33qRARKup"
      },
      "execution_count": null,
      "outputs": []
    },
    {
      "cell_type": "code",
      "source": [
        "# Buatlah visualisasi heatmap untuk Setiap variabel numerik yang ada"
      ],
      "metadata": {
        "id": "BmcfGNL1Rdb_"
      },
      "execution_count": null,
      "outputs": []
    },
    {
      "cell_type": "markdown",
      "source": [
        "## Algoritma Naive Bayes dan Preprocessing (pengenalan)"
      ],
      "metadata": {
        "id": "2W-0dXGMRm5g"
      }
    },
    {
      "cell_type": "code",
      "source": [
        "# sebelum membuat algoritma pertama tama buatlah dataset baru dengan ketentuan\n",
        "# mengambil dataset df\n",
        "# Menghapus kolom Unnamed: 0, CLIENTNUM, Umur, dan Limit Kartu Kredit (initinya yang berupa primary key dan bukan tipe kategori)\n",
        "# dataset dengan kolom yang sudah dihapus tadi kemudian disimpan di dataframe baru (df baru)\n"
      ],
      "metadata": {
        "id": "dr9RJsatR35G"
      },
      "execution_count": null,
      "outputs": []
    },
    {
      "cell_type": "code",
      "source": [
        "# Buatlah sebuah fungsi naive bayes dengan ketentuan\n",
        "# Mengambil data dari dataframe yang telah diproses pada blok sebelumnya (diatas)\n",
        "# Nama fungsinya adalah naive_bayes\n",
        "# Mengambil 1 saja parameter yaitu sebuah list berisi kategori\n",
        "\n",
        "# Outputnya berupa prediksi Attrited Customer atau Existing Customer\n",
        "# Outputnya berupa tuple (_hasilnya, persentasenya berapa) contoh (Existing Customer, 0.004)\n",
        "\n",
        "# Tidak boleh menggunakan library manapun selain pandas dan numpy\n",
        "\n",
        "\n",
        "\n",
        "# contoh\n",
        "# def naive_bayes(prediksi:list)-> tuple :\n",
        "#   ........\n",
        "\n",
        "# jadi nanti saat saya coba masukan data \n",
        "# naive_bayes([\"F\",\t\"Uneducated\",\"Single\", \"Unknown\tBlue\"]) akan keluar tuple berupa (\"Attired Customer\", 0.002)\n"
      ],
      "metadata": {
        "id": "2EgdoQwHSasF"
      },
      "execution_count": null,
      "outputs": []
    }
  ]
}